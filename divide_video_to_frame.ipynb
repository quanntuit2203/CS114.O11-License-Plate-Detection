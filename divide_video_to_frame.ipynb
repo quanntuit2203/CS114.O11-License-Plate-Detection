{
  "nbformat": 4,
  "nbformat_minor": 0,
  "metadata": {
    "colab": {
      "provenance": [],
      "gpuType": "T4"
    },
    "kernelspec": {
      "name": "python3",
      "display_name": "Python 3"
    },
    "language_info": {
      "name": "python"
    },
    "accelerator": "GPU"
  },
  "cells": [
    {
      "cell_type": "markdown",
      "source": [
        "Code tách frame ảnh từ video"
      ],
      "metadata": {
        "id": "0NJ6_2Co1g6W"
      }
    },
    {
      "cell_type": "code",
      "execution_count": null,
      "metadata": {
        "colab": {
          "base_uri": "https://localhost:8080/"
        },
        "id": "R_KtD0DkKDFN",
        "outputId": "d278d46f-2498-4fe0-8d44-658c1cb6797f"
      },
      "outputs": [
        {
          "output_type": "stream",
          "name": "stdout",
          "text": [
            "Drive already mounted at /content/drive; to attempt to forcibly remount, call drive.mount(\"/content/drive\", force_remount=True).\n",
            "Đã tách 562 frame từ video.\n"
          ]
        }
      ],
      "source": [
        "import cv2\n",
        "import os\n",
        "from google.colab import drive\n",
        "drive.mount('/content/drive')\n",
        "# Đường dẫn của video\n",
        "video_path = '/content/drive/MyDrive/DataSet_Project_ML/xe-quan-su-b.mp4'\n",
        "\n",
        "# Khởi tạo đối tượng VideoCapture\n",
        "cap = cv2.VideoCapture(video_path)\n",
        "\n",
        "# Kiểm tra xem VideoCapture có được mở không\n",
        "if not cap.isOpened():\n",
        "    print(\"Không thể mở video.\")\n",
        "    exit()\n",
        "\n",
        "# Lấy thông tin về video (chiều rộng, chiều cao, tỉ lệ khung hình, số khung hình mỗi giây, v.v.)\n",
        "width = int(cap.get(cv2.CAP_PROP_FRAME_WIDTH))\n",
        "height = int(cap.get(cv2.CAP_PROP_FRAME_HEIGHT))\n",
        "fps = cap.get(cv2.CAP_PROP_FPS)\n",
        "total_frames = int(cap.get(cv2.CAP_PROP_FRAME_COUNT))\n",
        "\n",
        "# Thư mục để lưu các frame ảnh\n",
        "output_folder = '/content/drive/MyDrive/DataSet_Project_ML/xe-quan-su-b/'\n",
        "os.makedirs(output_folder, exist_ok=True)\n",
        "\n",
        "# Biến đếm frame\n",
        "frame_count = 0\n",
        "\n",
        "# Biến để lưu thời điểm (timestamps) của frame trước đó\n",
        "prev_timestamp = 0\n",
        "\n",
        "while cap.isOpened():\n",
        "    # Đọc frame từ video\n",
        "    ret, frame = cap.read()\n",
        "\n",
        "    # Kiểm tra xem có frame nào được đọc hay không\n",
        "    if not ret:\n",
        "        break\n",
        "\n",
        "    # Lấy thời điểm (timestamps) của frame hiện tại\n",
        "    current_timestamp = cap.get(cv2.CAP_PROP_POS_MSEC)\n",
        "\n",
        "    # Kiểm tra xem đã đủ khoảng thời gian giữa các frame để xuất ra hay chưa (1 giây = 1000 milliseconds)\n",
        "    if current_timestamp - prev_timestamp >= 400:\n",
        "        # Lưu frame thành ảnh\n",
        "        frame_filename = f'{output_folder}xe-quan-su-b_{frame_count}.jpg'\n",
        "        cv2.imwrite(frame_filename, frame)\n",
        "\n",
        "        # Cập nhật thời điểm (timestamps) của frame trước đó\n",
        "        prev_timestamp = current_timestamp\n",
        "\n",
        "        # Tăng biến đếm frame\n",
        "        frame_count += 1\n",
        "\n",
        "# Giải phóng đối tượng VideoCapture\n",
        "cap.release()\n",
        "\n",
        "print(f\"Đã tách {frame_count} frame từ video.\")"
      ]
    }
  ]
}